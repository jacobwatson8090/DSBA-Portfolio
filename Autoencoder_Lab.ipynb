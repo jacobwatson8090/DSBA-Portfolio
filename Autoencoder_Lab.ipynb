{
  "nbformat": 4,
  "nbformat_minor": 0,
  "metadata": {
    "colab": {
      "provenance": [],
      "gpuType": "T4"
    },
    "kernelspec": {
      "name": "python3",
      "display_name": "Python 3"
    },
    "language_info": {
      "name": "python"
    },
    "accelerator": "GPU"
  },
  "cells": [
    {
      "cell_type": "markdown",
      "source": [
        "##Step 1: Importing Modules"
      ],
      "metadata": {
        "id": "ULq7RYODa2S4"
      }
    },
    {
      "cell_type": "code",
      "execution_count": 1,
      "metadata": {
        "id": "anShuRPtagOP"
      },
      "outputs": [],
      "source": [
        "import torch\n",
        "from torchvision import datasets\n",
        "from torchvision import transforms\n",
        "import matplotlib.pyplot as plt\n",
        "import numpy as np\n",
        "from PIL import Image"
      ]
    },
    {
      "cell_type": "markdown",
      "source": [
        "##Step 2: Loading the Dataset"
      ],
      "metadata": {
        "id": "eBxYyXk5a-ig"
      }
    },
    {
      "cell_type": "code",
      "source": [
        "# Transforms images to a PyTorch Tensor\n",
        "tensor_transform = transforms.ToTensor()\n",
        "\n",
        "# Download the MNIST Dataset\n",
        "dataset = datasets.MNIST(root = \"./data\",\n",
        "\t\t\t\t\t\ttrain = True,\n",
        "\t\t\t\t\t\tdownload = True,\n",
        "\t\t\t\t\t\ttransform = tensor_transform)\n",
        "\n",
        "# DataLoader is used to load the dataset\n",
        "# for training\n",
        "loader = torch.utils.data.DataLoader(dataset = dataset,\n",
        "\t\t\t\t\t\t\t\t\tbatch_size = 32,\n",
        "\t\t\t\t\t\t\t\t\tshuffle = True)\n"
      ],
      "metadata": {
        "id": "xuwTmInKa-TD",
        "colab": {
          "base_uri": "https://localhost:8080/"
        },
        "outputId": "dbdf205c-7876-4f7a-969e-b41a8f847eda"
      },
      "execution_count": 2,
      "outputs": [
        {
          "output_type": "stream",
          "name": "stdout",
          "text": [
            "Downloading http://yann.lecun.com/exdb/mnist/train-images-idx3-ubyte.gz\n",
            "Downloading http://yann.lecun.com/exdb/mnist/train-images-idx3-ubyte.gz to ./data/MNIST/raw/train-images-idx3-ubyte.gz\n"
          ]
        },
        {
          "output_type": "stream",
          "name": "stderr",
          "text": [
            "100%|██████████| 9912422/9912422 [00:00<00:00, 40832879.50it/s]\n"
          ]
        },
        {
          "output_type": "stream",
          "name": "stdout",
          "text": [
            "Extracting ./data/MNIST/raw/train-images-idx3-ubyte.gz to ./data/MNIST/raw\n",
            "\n",
            "Downloading http://yann.lecun.com/exdb/mnist/train-labels-idx1-ubyte.gz\n",
            "Downloading http://yann.lecun.com/exdb/mnist/train-labels-idx1-ubyte.gz to ./data/MNIST/raw/train-labels-idx1-ubyte.gz\n"
          ]
        },
        {
          "output_type": "stream",
          "name": "stderr",
          "text": [
            "100%|██████████| 28881/28881 [00:00<00:00, 109625062.28it/s]\n"
          ]
        },
        {
          "output_type": "stream",
          "name": "stdout",
          "text": [
            "Extracting ./data/MNIST/raw/train-labels-idx1-ubyte.gz to ./data/MNIST/raw\n",
            "\n",
            "Downloading http://yann.lecun.com/exdb/mnist/t10k-images-idx3-ubyte.gz\n",
            "Downloading http://yann.lecun.com/exdb/mnist/t10k-images-idx3-ubyte.gz to ./data/MNIST/raw/t10k-images-idx3-ubyte.gz\n"
          ]
        },
        {
          "output_type": "stream",
          "name": "stderr",
          "text": [
            "100%|██████████| 1648877/1648877 [00:00<00:00, 66754419.77it/s]"
          ]
        },
        {
          "output_type": "stream",
          "name": "stdout",
          "text": [
            "Extracting ./data/MNIST/raw/t10k-images-idx3-ubyte.gz to ./data/MNIST/raw\n",
            "\n",
            "Downloading http://yann.lecun.com/exdb/mnist/t10k-labels-idx1-ubyte.gz\n"
          ]
        },
        {
          "output_type": "stream",
          "name": "stderr",
          "text": [
            "\n"
          ]
        },
        {
          "output_type": "stream",
          "name": "stdout",
          "text": [
            "Downloading http://yann.lecun.com/exdb/mnist/t10k-labels-idx1-ubyte.gz to ./data/MNIST/raw/t10k-labels-idx1-ubyte.gz\n"
          ]
        },
        {
          "output_type": "stream",
          "name": "stderr",
          "text": [
            "100%|██████████| 4542/4542 [00:00<00:00, 20980758.56it/s]\n"
          ]
        },
        {
          "output_type": "stream",
          "name": "stdout",
          "text": [
            "Extracting ./data/MNIST/raw/t10k-labels-idx1-ubyte.gz to ./data/MNIST/raw\n",
            "\n"
          ]
        }
      ]
    },
    {
      "cell_type": "markdown",
      "source": [
        "## Step 3: Create Autoencoder Class\n",
        "In this coding snippet, the encoder section reduces the dimensionality of the data sequentially as given by:\n",
        "\n",
        "**28x28 = 784 ==> 128 ==> 64 ==> 36 ==> 18 ==> 9**\n",
        "Where the number of input nodes is 784 that are coded into 9 nodes in the latent space. Whereas, in the decoder section, the dimensionality of the data is linearly increased to the original input size, in order to reconstruct the input.\n",
        "\n",
        "**9 ==> 18 ==> 36 ==> 64 ==> 128 ==> 784 ==> 28x28 = 784**\n",
        "Where the input is the 9-node latent space representation and the output is the 28*28 reconstructed input.\n",
        "\n",
        "The encoder starts with 28x28 nodes in a Linear layer followed by a ReLU layer, and it goes on until the dimensionality is reduced to 9 nodes. The decoder uses these 9 data representations to bring back the original image by using the inverse of the encoder architecture. The decryptor architecture uses a Sigmoid Layer to range the values between 0 and 1 only."
      ],
      "metadata": {
        "id": "znEKcA74bIaL"
      }
    },
    {
      "cell_type": "code",
      "source": [
        "# Creating a PyTorch class\n",
        "# 28*28 ==> 9 ==> 28*28\n",
        "class AE(torch.nn.Module):\n",
        "\tdef __init__(self):\n",
        "\t\tsuper().__init__()\n",
        "\n",
        "\t\t# Building an linear encoder with Linear\n",
        "\t\t# layer followed by Relu activation function\n",
        "\t\t# 784 ==> 9\n",
        "\t\tself.encoder = torch.nn.Sequential(\n",
        "\t\t\ttorch.nn.Linear(28 * 28, 128), ##FILL IN##\n",
        "\t\t\ttorch.nn.ReLU(),\n",
        "\t\t\ttorch.nn.Linear(128, 64), ##FILL IN##\n",
        "\t\t\ttorch.nn.ReLU(),\n",
        "\t\t\ttorch.nn.Linear(64, 36), ##FILL IN##\n",
        "\t\t\ttorch.nn.ReLU(),\n",
        "\t\t\ttorch.nn.Linear(36, 18), ##FILL IN##\n",
        "\t\t\ttorch.nn.ReLU(),\n",
        "\t\t\ttorch.nn.Linear(18, 9) ##FILL IN##\n",
        "\t\t)\n",
        "\n",
        "\t\t# Building an linear decoder with Linear\n",
        "\t\t# layer followed by Relu activation function\n",
        "\t\t# The Sigmoid activation function\n",
        "\t\t# outputs the value between 0 and 1\n",
        "\t\t# 9 ==> 784\n",
        "\t\tself.decoder = torch.nn.Sequential(\n",
        "\t\t\ttorch.nn.Linear(9, 18), ##FILL IN##\n",
        "\t\t\ttorch.nn.ReLU(),\n",
        "\t\t\ttorch.nn.Linear(18, 36), ##FILL IN##\n",
        "\t\t\ttorch.nn.ReLU(),\n",
        "\t\t\ttorch.nn.Linear(36, 64), ##FILL IN##\n",
        "\t\t\ttorch.nn.ReLU(),\n",
        "\t\t\ttorch.nn.Linear(64, 128), ##FILL IN##\n",
        "\t\t\ttorch.nn.ReLU(),\n",
        "\t\t\ttorch.nn.Linear(128, 28 * 28), ##FILL IN##\n",
        "\t\t\ttorch.nn.Sigmoid()\n",
        "\t\t)\n",
        "\n",
        "\tdef forward(self, x):\n",
        "\t\tencoded = self.encoder(x)\n",
        "\t\tdecoded = self.decoder(encoded)\n",
        "\t\treturn decoded\n"
      ],
      "metadata": {
        "id": "jVkkbRFFbIrz"
      },
      "execution_count": 12,
      "outputs": []
    },
    {
      "cell_type": "markdown",
      "source": [
        "##Step 4: Initializing Model"
      ],
      "metadata": {
        "id": "sDtIYVRcb2l8"
      }
    },
    {
      "cell_type": "code",
      "source": [
        "# GPU\n",
        "device = torch.device(\"cuda:0\" if torch.cuda.is_available() else \"cpu\")"
      ],
      "metadata": {
        "id": "Hsc9_QYgdlmC"
      },
      "execution_count": 13,
      "outputs": []
    },
    {
      "cell_type": "code",
      "source": [
        "# Model Initialization\n",
        "model = AE()\n",
        "\n",
        "model = model.to(device)\n",
        "\n",
        "# Validation using MSE Loss function\n",
        "loss_function = torch.nn.MSELoss()\n",
        "\n",
        "# Using an Adam Optimizer with lr = 0.001\n",
        "optimizer = torch.optim.Adam(model.parameters(),\n",
        "\t\t\t\t\t\t\tlr = 1e-3,\n",
        "\t\t\t\t\t\t\tweight_decay = 1e-8)\n"
      ],
      "metadata": {
        "id": "v8xzTh4Jb26F"
      },
      "execution_count": 14,
      "outputs": []
    },
    {
      "cell_type": "markdown",
      "source": [
        "##Step 5: Create Output Generation\n",
        "The output against each epoch is computed by passing as a parameter into the Model() class and the final tensor is stored in an output list. The image into (-1, 784) and is passed as a parameter to the Autoencoder class, which in turn returns a reconstructed image. The loss function is calculated using MSELoss function and plotted. In the optimizer, the initial gradient values are made to zero using zero_grad(). loss.backward() computes the grad values and stored. Using the step() function, the optimizer is updated.\n",
        "\n",
        "The original image and the reconstructed image from the outputs list are detached and transformed into a NumPy Array for plotting the images."
      ],
      "metadata": {
        "id": "gerrS8nyb-TB"
      }
    },
    {
      "cell_type": "code",
      "source": [
        "from matplotlib.style import available\n",
        "epochs = 20\n",
        "losses = []\n",
        "\n",
        "for epoch in range(epochs):\n",
        "  model.train()\n",
        "  for (image, _) in loader:\n",
        "    # Reshaping the image to (-1, 784)\n",
        "    image = image.reshape(-1,28*28) ##FILL IN##\n",
        "\n",
        "    image = image.to(device)\n",
        "\n",
        "    # Output of Autoencoder\n",
        "    reconstructed = model(image)\n",
        "\n",
        "    # Calculating the loss function\n",
        "    loss = loss_function(reconstructed, image)\n",
        "\n",
        "    # The gradients are set to zero,\n",
        "    optimizer.zero_grad()\n",
        "    # the gradient is computed and stored.\n",
        "    # .step() performs parameter update\n",
        "    loss.backward()\n",
        "    optimizer.step()\n",
        "\n",
        "    # Storing the losses in a list for plotting\n",
        "    losses.append(loss.item())\n",
        "  print(f'Last Loss: {loss.item()}')\n",
        "  print(f'Epoch {epoch} Complete')"
      ],
      "metadata": {
        "id": "yILGDU--b-hC",
        "colab": {
          "base_uri": "https://localhost:8080/"
        },
        "outputId": "3b9fcb38-5306-4614-94ce-a6628b532fcc"
      },
      "execution_count": 15,
      "outputs": [
        {
          "output_type": "stream",
          "name": "stdout",
          "text": [
            "Last Loss: 0.040881458669900894\n",
            "Epoch 0 Complete\n",
            "Last Loss: 0.035723377019166946\n",
            "Epoch 1 Complete\n",
            "Last Loss: 0.030345749109983444\n",
            "Epoch 2 Complete\n",
            "Last Loss: 0.029580213129520416\n",
            "Epoch 3 Complete\n",
            "Last Loss: 0.026983318850398064\n",
            "Epoch 4 Complete\n",
            "Last Loss: 0.027258655056357384\n",
            "Epoch 5 Complete\n",
            "Last Loss: 0.02328566089272499\n",
            "Epoch 6 Complete\n",
            "Last Loss: 0.022101474925875664\n",
            "Epoch 7 Complete\n",
            "Last Loss: 0.02412775531411171\n",
            "Epoch 8 Complete\n",
            "Last Loss: 0.021411828696727753\n",
            "Epoch 9 Complete\n",
            "Last Loss: 0.022351033985614777\n",
            "Epoch 10 Complete\n",
            "Last Loss: 0.02098013460636139\n",
            "Epoch 11 Complete\n",
            "Last Loss: 0.023028820753097534\n",
            "Epoch 12 Complete\n",
            "Last Loss: 0.020046694204211235\n",
            "Epoch 13 Complete\n",
            "Last Loss: 0.02200138010084629\n",
            "Epoch 14 Complete\n",
            "Last Loss: 0.019557638093829155\n",
            "Epoch 15 Complete\n",
            "Last Loss: 0.01747935451567173\n",
            "Epoch 16 Complete\n",
            "Last Loss: 0.02351348288357258\n",
            "Epoch 17 Complete\n",
            "Last Loss: 0.02063499577343464\n",
            "Epoch 18 Complete\n",
            "Last Loss: 0.019170137122273445\n",
            "Epoch 19 Complete\n"
          ]
        }
      ]
    },
    {
      "cell_type": "code",
      "source": [
        "# Defining the Plot Style\n",
        "plt.xlabel('Iterations')\n",
        "plt.ylabel('Loss')\n",
        "\n",
        "# Plotting the last 100 values\n",
        "plt.plot(losses) ##FILL IN##"
      ],
      "metadata": {
        "id": "u97RZrnewEZK",
        "colab": {
          "base_uri": "https://localhost:8080/",
          "height": 467
        },
        "outputId": "f943768e-c7e3-47d0-c8ce-39f9641c38fe"
      },
      "execution_count": 16,
      "outputs": [
        {
          "output_type": "execute_result",
          "data": {
            "text/plain": [
              "[<matplotlib.lines.Line2D at 0x7a2c64a39660>]"
            ]
          },
          "metadata": {},
          "execution_count": 16
        },
        {
          "output_type": "display_data",
          "data": {
            "text/plain": [
              "<Figure size 640x480 with 1 Axes>"
            ],
            "image/png": "[encoded data removed]"
          },
          "metadata": {}
        }
      ]
    },
    {
      "cell_type": "markdown",
      "source": [
        "##Step 6: Input/Reconstructed Input to/from Autoencoder\n",
        "\n",
        "The first input image array and the first reconstructed input image array have been plotted using plt.imshow()."
      ],
      "metadata": {
        "id": "QI-9whaEgakN"
      }
    },
    {
      "cell_type": "code",
      "source": [
        "sample = 0 ##UPDATE SAMPLE TO TRY DIFF IMAGES\n",
        "\n",
        "for image, _ in loader:\n",
        "  image = image.to(device)\n",
        "  image = image.reshape(-1, 28*28)\n",
        "  reconstructed = model(image)\n",
        "  image =  image.cpu().reshape(-1, 28, 28)\n",
        "  reconstructed = reconstructed.cpu().detach().numpy().reshape(-1, 28, 28)\n",
        "  plt.figure()\n",
        "  plt.imshow(image[sample], cmap='gray')\n",
        "  plt.figure()\n",
        "  plt.imshow(reconstructed[sample], cmap='gray')\n",
        "  break\n"
      ],
      "metadata": {
        "id": "gFEtyEh7qT7d",
        "colab": {
          "base_uri": "https://localhost:8080/",
          "height": 843
        },
        "outputId": "9b4475dc-323c-4980-c90d-326d0d549b82"
      },
      "execution_count": 17,
      "outputs": [
        {
          "output_type": "display_data",
          "data": {
            "text/plain": [
              "<Figure size 640x480 with 1 Axes>"
            ],
            "image/png": "[encoded data removed]"
          },
          "metadata": {}
        },
        {
          "output_type": "display_data",
          "data": {
            "text/plain": [
              "<Figure size 640x480 with 1 Axes>"
            ],
            "image/png": "[encoded data removed]"
          },
          "metadata": {}
        }
      ]
    }
  ]
}
